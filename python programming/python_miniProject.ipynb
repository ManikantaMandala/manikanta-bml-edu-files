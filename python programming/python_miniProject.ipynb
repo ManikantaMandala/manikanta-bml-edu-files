{
 "cells": [
  {
   "cell_type": "markdown",
   "metadata": {},
   "source": [
    "# Python Mini Project:\n",
    "    * Topic: Cows and Bulls(A two player game).\n",
    "    * In this game, a player tries to guess a 4 digit code number chosen by the second player.\n",
    "    * For that there are some rules and hints:\n",
    "        * A player will creates a secrete code of 4-digit number. This number should have no repeated digits and no zero.\n",
    "        * Another player makes a guess to guess the secrete number.(There will be 2 hints(Cows and Bulls)).\n",
    "        * Bulls indicate the number of \"correct digits\" in the \"correct position\" and Cows indicates the number of \"correct digits\" in the \"wrong position\". For example, if the 4-digit code is *3245* and the guessed number is *1234* then we have 1 Bull(2 is in correct position and correct digit) and 2 Cows( 3,4 are correct digits but they are in wrong position).\n",
    "        * The player keeps on guessing until the secrete code is cracked. The player who guesses in the minimum number of tries wins."
   ]
  },
  {
   "cell_type": "code",
   "execution_count": 1,
   "metadata": {},
   "outputs": [],
   "source": [
    "# Importing the random module\n",
    "# for creating the random number(secrete 4 digit code)\n",
    "import random"
   ]
  },
  {
   "cell_type": "code",
   "execution_count": 2,
   "metadata": {},
   "outputs": [],
   "source": [
    "\n",
    "# Checking whether the number passed having any duplicate numbers.\n",
    "# It returns a boolean value\n",
    "# If it doesn't have duplicates, it returns True.\n",
    "# Else returns False.\n",
    "def noDup(num):\n",
    "    num_list = getDigits(num)\n",
    "    if len(num_list) == len(set(num_list)):\n",
    "        return True\n",
    "    else:\n",
    "        return False"
   ]
  },
  {
   "cell_type": "code",
   "execution_count": 3,
   "metadata": {},
   "outputs": [],
   "source": [
    "# Checking whether the number passed having any zeros \n",
    "# It returns a boolean value\n",
    "# If it doesn't have zero, it returns True.\n",
    "# else returns False.\n",
    "def noZero(num):\n",
    "    num_list = getDigits(num)\n",
    "    for i in range(4):\n",
    "        if num_list[i] == 0:\n",
    "            return False\n",
    "    return True"
   ]
  },
  {
   "cell_type": "code",
   "execution_count": 4,
   "metadata": {},
   "outputs": [],
   "source": [
    "\n",
    "# creating the list of all digits from a number.\n",
    "def getDigits(num): \n",
    "    return [int(i) for i in str(num)]"
   ]
  },
  {
   "cell_type": "code",
   "execution_count": 5,
   "metadata": {},
   "outputs": [],
   "source": [
    "# Returns a list.\n",
    "# which has 2 elements.\n",
    "# first element is no. of Bulls.(correct digit and correct position)\n",
    "# second element is no. of Cows.(correct digit but wrong position)\n",
    "def noOfBullsCows(num, guess):\n",
    "    bull_cow = [0,0]\n",
    "    num_list = getDigits(num)\n",
    "    guess_list = getDigits(guess)\n",
    "\n",
    "    for i,j in zip(num_list, guess_list):\n",
    "        if j in num_list:\n",
    "            if j == i:\n",
    "                bull_cow[0] += 1\n",
    "            else:\n",
    "                bull_cow[1] += 1\n",
    "    \n",
    "    return bull_cow"
   ]
  },
  {
   "cell_type": "code",
   "execution_count": 6,
   "metadata": {},
   "outputs": [],
   "source": [
    "# Generates a 4 digit number.\n",
    "# with no Duplicate digits\n",
    "# with no Zero as a digit\n",
    "def genNumber():\n",
    "    num = random.randint(1000,9999)\n",
    "    if noDup(num) and noZero(num):\n",
    "        return num"
   ]
  },
  {
   "cell_type": "code",
   "execution_count": null,
   "metadata": {},
   "outputs": [],
   "source": [
    "# This is the main function.\n",
    "if __name__ == \"__main__\":\n",
    "    # generating the secrete code.(4 digit)\n",
    "    num = genNumber()\n",
    "    # taking the no of attempts.\n",
    "    attempts = int(input(\"Enter number of attempts\"))\n",
    "\n",
    "    while attempts > 0:\n",
    "        # intaking the guessed number.\n",
    "        guess = int(input(\"Enter your guess: \"))\n",
    "        \n",
    "        # checking the conditions:\n",
    "        # No duplicate number.\n",
    "        if not noDup(num):\n",
    "            print(\"Number should not have repeated digits, Try again!\")\n",
    "            continue\n",
    "        # No zero in the digits of guessed number>\n",
    "        if not noZero(num):\n",
    "            print(\"There is no zero in the number, Try again!\")\n",
    "            continue\n",
    "        # It should be 4 digits.\n",
    "        if guess < 1000 or guess > 9999:\n",
    "            print(\"Enter 4 digit number which doesn't have a zero as digit, Try again!\")\n",
    "            continue\n",
    "\n",
    "        # checking the no of bulls and cows.\n",
    "        bull_cow = noOfBullsCows(num, guess)\n",
    "        # printing cows and bulls.\n",
    "        print(f\"{bull_cow[0]} bulls, {bull_cow[1]} cows\")\n",
    "        # decrementing the attempts.\n",
    "        attempts -=1\n",
    "\n",
    "        # checking whether the bulls are 4 or not>\n",
    "        if bull_cow[0] == 4:\n",
    "            print(\"Your guessed number is right!\")\n",
    "            break\n",
    "    # if the attempts over\n",
    "    # print the below statement and exit out of the program.\n",
    "    else:\n",
    "        print(f\"You ran out of attempts, The number was {num}\")"
   ]
  }
 ],
 "metadata": {
  "interpreter": {
   "hash": "ae57bf3efd110eca5819242074b93dbf345c46d72ecfdfacfe0d63b0362044f3"
  },
  "kernelspec": {
   "display_name": "Python 3.9.12 64-bit (windows store)",
   "language": "python",
   "name": "python3"
  },
  "language_info": {
   "codemirror_mode": {
    "name": "ipython",
    "version": 3
   },
   "file_extension": ".py",
   "mimetype": "text/x-python",
   "name": "python",
   "nbconvert_exporter": "python",
   "pygments_lexer": "ipython3",
   "version": "3.9.12"
  },
  "orig_nbformat": 4
 },
 "nbformat": 4,
 "nbformat_minor": 2
}
